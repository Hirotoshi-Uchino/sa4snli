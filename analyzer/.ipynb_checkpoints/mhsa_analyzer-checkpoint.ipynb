{
 "cells": [
  {
   "cell_type": "code",
   "execution_count": 1,
   "metadata": {},
   "outputs": [
    {
     "name": "stderr",
     "output_type": "stream",
     "text": [
      "/home/hirotoshi/.pyenv/versions/anaconda3-5.0.1/lib/python3.6/site-packages/h5py/__init__.py:34: FutureWarning: Conversion of the second argument of issubdtype from `float` to `np.floating` is deprecated. In future, it will be treated as `np.float64 == np.dtype(float).type`.\n",
      "  from ._conv import register_converters as _register_converters\n",
      "Using TensorFlow backend.\n"
     ]
    }
   ],
   "source": [
    "%matplotlib inline\n",
    "import matplotlib.pyplot as plt\n",
    "import seaborn as sns\n",
    "\n",
    "import numpy as np\n",
    "import pandas as pd\n",
    "from keras.models import load_model\n",
    "\n",
    "import sys\n",
    "sys.path.append('../sa4snli/')\n",
    "\n",
    "from SNLI import SNLI\n",
    "from layers import MHSA, PFNN\n"
   ]
  },
  {
   "cell_type": "code",
   "execution_count": 2,
   "metadata": {
    "collapsed": true
   },
   "outputs": [],
   "source": [
    "snli = SNLI()\n",
    "\n",
    "# load data\n",
    "snli = snli.load_data('../data/pickle/snli_pad_concat_glove6B.300d.pickle')\n",
    "model = load_model('../model/mhsa_model_02.h5', custom_objects={'MHSA': MHSA, 'PFNN': PFNN})\n",
    "\n",
    "index_to_word = {i: w for w, i in snli.tokenizer.word_index.items()}\n",
    "index_to_word[0] = ''\n",
    "i2w = lambda i: index_to_word[i]"
   ]
  },
  {
   "cell_type": "code",
   "execution_count": 3,
   "metadata": {
    "collapsed": true
   },
   "outputs": [],
   "source": [
    "embed_layer = model.layers[1]\n",
    "mhsa_layer  = model.layers[2]\n",
    "embed_weight = embed_layer.get_weights()[0]\n",
    "\n",
    "# extract query and key weights\n",
    "# \n",
    "mhsa_weights = mhsa_layer.get_weights()\n",
    "wo_weight  = mhsa_weights.pop()\n",
    "wq_weights = []\n",
    "wk_weights = []\n",
    "wv_weights = []\n",
    "for i, weight in enumerate(mhsa_weights):\n",
    "    if i % 3 == 0:\n",
    "        wq_weights.append(weight)\n",
    "    elif i % 3 == 1:\n",
    "        wk_weights.append(weight)\n",
    "    else:\n",
    "        wv_weights.append(weight)"
   ]
  },
  {
   "cell_type": "code",
   "execution_count": 42,
   "metadata": {
    "collapsed": true
   },
   "outputs": [],
   "source": [
    "def create_attention_dataframes(number, heads=2, use_softmax=True):\n",
    "    def softmax(x):\n",
    "        exp_x = np.exp(x)\n",
    "        y = exp_x / np.sum(np.exp(x), axis=1, keepdims=True)\n",
    "        return y\n",
    "\n",
    "    sentence = snli.x_test[number]\n",
    "    df_list = []\n",
    "    \n",
    "    for i in range(heads):\n",
    "    \n",
    "        # calculate attention_weight\n",
    "        word_indices = np.where(sentence != 0)[0]\n",
    "        sl = np.vectorize(i2w)(sentence)\n",
    "        sl = sl[~(sl == '')]\n",
    "\n",
    "        wq_weight = wq_weights[i]\n",
    "        wk_weight = wk_weights[i]\n",
    "\n",
    "        encoded_sentence = np.zeros((sentence.shape[0], embed_weight.shape[1]))\n",
    "        for i, index in enumerate(sentence):\n",
    "            encoded_sentence[i, :] = embed_weight[index, :]\n",
    "\n",
    "        qw = np.dot(encoded_sentence, wq_weight)\n",
    "        kw = np.dot(encoded_sentence, wk_weight)\n",
    "\n",
    "        # attention_weight\n",
    "        aw = np.dot(qw, kw.T)/np.sqrt(300/heads)\n",
    "        # softmax\n",
    "        if use_softmax:\n",
    "            aw = softmax(aw)\n",
    "\n",
    "        df = pd.DataFrame(aw)\n",
    "        # extract empty index\n",
    "\n",
    "        f = df[word_indices].loc[word_indices]\n",
    "        f.index = sl\n",
    "        f.columns = sl\n",
    "\n",
    "        df_list.append(f)\n",
    "\n",
    "    return df_list"
   ]
  },
  {
   "cell_type": "code",
   "execution_count": 43,
   "metadata": {},
   "outputs": [
    {
     "data": {
      "text/plain": [
       "[                     a      land     rover            is         being  \\\n",
       " a         2.332876e-10  0.000971  0.002542  1.375715e-05  8.410906e-04   \n",
       " land      4.050172e-13  0.160058  0.010522  7.317904e-07  5.322239e-05   \n",
       " rover     1.244920e-07  0.009631  0.103572  9.280950e-06  1.381267e-04   \n",
       " is        9.690212e-09  0.007696  0.002760  7.459204e-05  3.276328e-03   \n",
       " being     1.329386e-03  0.027397  0.004585  2.671759e-01  8.161103e-02   \n",
       " driven    1.001851e-11  0.009602  0.024969  3.132329e-07  1.344341e-04   \n",
       " across    2.980310e-16  0.002931  0.000069  2.479802e-08  2.356950e-07   \n",
       " a         2.332876e-10  0.000971  0.002542  1.375715e-05  8.410906e-04   \n",
       " river     1.174199e-30  0.002464  0.001108  1.969606e-18  2.776185e-11   \n",
       " |         2.226634e-25  0.001417  0.021677  1.959732e-16  3.724579e-11   \n",
       " a         2.332876e-10  0.000971  0.002542  1.375715e-05  8.410906e-04   \n",
       " vehicle   9.435516e-02  0.000655  0.000174  2.760603e-01  3.611127e-04   \n",
       " is        9.690212e-09  0.007696  0.002760  7.459204e-05  3.276328e-03   \n",
       " crossing  7.246188e-18  0.018105  0.004133  8.077694e-10  1.771036e-06   \n",
       " a         2.332876e-10  0.000971  0.002542  1.375715e-05  8.410906e-04   \n",
       " river     1.174199e-30  0.002464  0.001108  1.969606e-18  2.776185e-11   \n",
       " \n",
       "             driven        across             a     river             |  \\\n",
       " a         0.838660  1.591114e-08  2.332876e-10  0.000009  5.440906e-12   \n",
       " land      0.247676  1.046116e-05  4.050172e-13  0.161010  1.559851e-09   \n",
       " rover     0.023720  7.116822e-05  1.244920e-07  0.024165  4.105650e-03   \n",
       " is        0.656153  1.762550e-07  9.690212e-09  0.000391  1.445286e-08   \n",
       " being     0.164377  7.923915e-03  1.329386e-03  0.030853  7.663773e-08   \n",
       " driven    0.305612  2.554910e-06  1.001851e-11  0.024827  2.775105e-03   \n",
       " across    0.003690  1.358485e-05  2.980310e-16  0.496284  1.137294e-14   \n",
       " a         0.838660  1.591114e-08  2.332876e-10  0.000009  5.440906e-12   \n",
       " river     0.076175  1.413329e-13  1.174199e-30  0.378262  9.815974e-09   \n",
       " |         0.926345  1.151303e-13  2.226634e-25  0.000536  6.109114e-11   \n",
       " a         0.838660  1.591114e-08  2.332876e-10  0.000009  5.440906e-12   \n",
       " vehicle   0.000284  5.035029e-02  9.435516e-02  0.005274  3.382914e-13   \n",
       " is        0.656153  1.762550e-07  9.690212e-09  0.000391  1.445286e-08   \n",
       " crossing  0.160059  8.285197e-08  7.246188e-18  0.375979  3.501525e-08   \n",
       " a         0.838660  1.591114e-08  2.332876e-10  0.000009  5.440906e-12   \n",
       " river     0.076175  1.413329e-13  1.174199e-30  0.378262  9.815974e-09   \n",
       " \n",
       "                      a       vehicle            is  crossing             a  \\\n",
       " a         2.332876e-10  6.471547e-02  1.375715e-05  0.000123  2.332876e-10   \n",
       " land      4.050172e-13  8.531054e-04  7.317904e-07  0.009022  4.050172e-13   \n",
       " rover     1.244920e-07  2.452868e-02  9.280950e-06  0.014013  1.244920e-07   \n",
       " is        9.690212e-09  2.372970e-01  7.459204e-05  0.003359  9.690212e-09   \n",
       " being     1.329386e-03  5.106279e-02  2.671759e-01  0.024628  1.329386e-03   \n",
       " driven    1.001851e-11  1.594318e-02  3.132329e-07  0.021888  1.001851e-11   \n",
       " across    2.980310e-16  1.119973e-06  2.479802e-08  0.000673  2.980310e-16   \n",
       " a         2.332876e-10  6.471547e-02  1.375715e-05  0.000123  2.332876e-10   \n",
       " river     1.174199e-30  7.660979e-07  1.969606e-18  0.000288  1.174199e-30   \n",
       " |         2.226634e-25  1.433909e-02  1.959732e-16  0.000017  2.226634e-25   \n",
       " a         2.332876e-10  6.471547e-02  1.375715e-05  0.000123  2.332876e-10   \n",
       " vehicle   9.435516e-02  6.769605e-03  2.760603e-01  0.001313  9.435516e-02   \n",
       " is        9.690212e-09  2.372970e-01  7.459204e-05  0.003359  9.690212e-09   \n",
       " crossing  7.246188e-18  5.215730e-04  8.077694e-10  0.043192  7.246188e-18   \n",
       " a         2.332876e-10  6.471547e-02  1.375715e-05  0.000123  2.332876e-10   \n",
       " river     1.174199e-30  7.660979e-07  1.969606e-18  0.000288  1.174199e-30   \n",
       " \n",
       "              river  \n",
       " a         0.000009  \n",
       " land      0.161010  \n",
       " rover     0.024165  \n",
       " is        0.000391  \n",
       " being     0.030853  \n",
       " driven    0.024827  \n",
       " across    0.496284  \n",
       " a         0.000009  \n",
       " river     0.378262  \n",
       " |         0.000536  \n",
       " a         0.000009  \n",
       " vehicle   0.005274  \n",
       " is        0.000391  \n",
       " crossing  0.375979  \n",
       " a         0.000009  \n",
       " river     0.378262  ,\n",
       "                      a      land         rover            is         being  \\\n",
       " a         3.451112e-15  0.000071  4.479566e-03  6.485050e-11  2.567724e-08   \n",
       " land      1.232362e-09  0.002704  2.610198e-03  1.155638e-03  1.998075e-03   \n",
       " rover     2.931717e-04  0.000993  1.223126e-02  1.209775e-03  2.486433e-03   \n",
       " is        1.503361e-10  0.001768  1.226170e-02  2.497633e-08  1.566830e-07   \n",
       " being     5.598272e-06  0.003740  1.794519e-02  4.836340e-06  1.299790e-05   \n",
       " driven    3.901404e-06  0.003492  1.404682e-02  9.232780e-04  1.140794e-02   \n",
       " across    4.782574e-12  0.000479  4.788302e-02  2.365739e-06  1.238261e-05   \n",
       " a         3.451112e-15  0.000071  4.479566e-03  6.485050e-11  2.567724e-08   \n",
       " river     1.536473e-10  0.000022  8.614693e-04  1.270764e-05  1.476313e-05   \n",
       " |         1.181939e-14  0.000009  5.642870e-07  1.768294e-11  5.890458e-11   \n",
       " a         3.451112e-15  0.000071  4.479566e-03  6.485050e-11  2.567724e-08   \n",
       " vehicle   1.642675e-03  0.000018  5.177721e-04  1.470651e-03  4.319262e-03   \n",
       " is        1.503361e-10  0.001768  1.226170e-02  2.497633e-08  1.566830e-07   \n",
       " crossing  2.291996e-07  0.000194  1.331018e-02  4.879958e-04  2.664110e-03   \n",
       " a         3.451112e-15  0.000071  4.479566e-03  6.485050e-11  2.567724e-08   \n",
       " river     1.536473e-10  0.000022  8.614693e-04  1.270764e-05  1.476313e-05   \n",
       " \n",
       "             driven        across             a         river             |  \\\n",
       " a         0.156815  6.937148e-07  3.451112e-15  1.351863e-05  8.421531e-09   \n",
       " land      0.191323  4.320211e-06  1.232362e-09  7.147894e-02  3.320393e-01   \n",
       " rover     0.009760  1.822425e-03  2.931717e-04  7.305921e-04  6.506924e-04   \n",
       " is        0.152578  2.754005e-05  1.503361e-10  8.782184e-03  1.137591e-10   \n",
       " being     0.015471  5.248454e-04  5.598272e-06  3.033616e-03  1.874559e-07   \n",
       " driven    0.109152  6.029718e-04  3.901404e-06  7.161549e-04  1.665392e-02   \n",
       " across    0.602932  2.148598e-06  4.782574e-12  6.907909e-02  8.464639e-07   \n",
       " a         0.156815  6.937148e-07  3.451112e-15  1.351863e-05  8.421531e-09   \n",
       " river     0.010614  4.889173e-06  1.536473e-10  4.932703e-01  5.577531e-07   \n",
       " |         0.000028  1.966455e-08  1.181939e-14  4.999801e-01  5.359451e-11   \n",
       " a         0.156815  6.937148e-07  3.451112e-15  1.351863e-05  8.421531e-09   \n",
       " vehicle   0.000081  3.960327e-04  1.642675e-03  6.395440e-07  2.547419e-02   \n",
       " is        0.152578  2.754005e-05  1.503361e-10  8.782184e-03  1.137591e-10   \n",
       " crossing  0.070934  4.252824e-04  2.291996e-07  1.282027e-03  1.808140e-04   \n",
       " a         0.156815  6.937148e-07  3.451112e-15  1.351863e-05  8.421531e-09   \n",
       " river     0.010614  4.889173e-06  1.536473e-10  4.932703e-01  5.577531e-07   \n",
       " \n",
       "                      a       vehicle            is  crossing             a  \\\n",
       " a         3.451112e-15  6.955267e-03  6.485050e-11  0.556308  3.451112e-15   \n",
       " land      1.232362e-09  3.087270e-01  1.155638e-03  0.000183  1.232362e-09   \n",
       " rover     2.931717e-04  3.786806e-03  1.209775e-03  0.000803  2.931717e-04   \n",
       " is        1.503361e-10  4.613919e-03  2.497633e-08  0.553935  1.503361e-10   \n",
       " being     5.598272e-06  6.134719e-03  4.836340e-06  0.189637  5.598272e-06   \n",
       " driven    3.901404e-06  1.390396e-01  9.232780e-04  0.001775  3.901404e-06   \n",
       " across    4.782574e-12  7.631978e-02  2.365739e-06  0.011568  4.782574e-12   \n",
       " a         3.451112e-15  6.955267e-03  6.485050e-11  0.556308  3.451112e-15   \n",
       " river     1.536473e-10  9.760433e-04  1.270764e-05  0.000005  1.536473e-10   \n",
       " |         1.181939e-14  6.231783e-07  1.768294e-11  0.000001  1.181939e-14   \n",
       " a         3.451112e-15  6.955267e-03  6.485050e-11  0.556308  3.451112e-15   \n",
       " vehicle   1.642675e-03  4.411310e-05  1.470651e-03  0.000051  1.642675e-03   \n",
       " is        1.503361e-10  4.613919e-03  2.497633e-08  0.553935  1.503361e-10   \n",
       " crossing  2.291996e-07  2.858437e-02  4.879958e-04  0.000740  2.291996e-07   \n",
       " a         3.451112e-15  6.955267e-03  6.485050e-11  0.556308  3.451112e-15   \n",
       " river     1.536473e-10  9.760433e-04  1.270764e-05  0.000005  1.536473e-10   \n",
       " \n",
       "                  river  \n",
       " a         1.351863e-05  \n",
       " land      7.147894e-02  \n",
       " rover     7.305921e-04  \n",
       " is        8.782184e-03  \n",
       " being     3.033616e-03  \n",
       " driven    7.161549e-04  \n",
       " across    6.907909e-02  \n",
       " a         1.351863e-05  \n",
       " river     4.932703e-01  \n",
       " |         4.999801e-01  \n",
       " a         1.351863e-05  \n",
       " vehicle   6.395440e-07  \n",
       " is        8.782184e-03  \n",
       " crossing  1.282027e-03  \n",
       " a         1.351863e-05  \n",
       " river     4.932703e-01  ]"
      ]
     },
     "execution_count": 43,
     "metadata": {},
     "output_type": "execute_result"
    }
   ],
   "source": []
  },
  {
   "cell_type": "code",
   "execution_count": 44,
   "metadata": {
    "scrolled": true
   },
   "outputs": [
    {
     "data": {
      "text/plain": [
       "<matplotlib.axes._subplots.AxesSubplot at 0x7fe4a9722550>"
      ]
     },
     "execution_count": 44,
     "metadata": {},
     "output_type": "execute_result"
    },
    {
     "data": {
      "image/png": "[encoded data removed]",
      "text/plain": [
       "<matplotlib.figure.Figure at 0x7fe4a9724048>"
      ]
     },
     "metadata": {},
     "output_type": "display_data"
    }
   ],
   "source": [
    "df_list_13 = create_attention_dataframes(13, 2, True)\n",
    "fig, ax = plt.subplots(figsize=(10,10))\n",
    "sns.heatmap(df_list_13[0], square=True, center=0, cmap='RdBu_r')"
   ]
  },
  {
   "cell_type": "code",
   "execution_count": 46,
   "metadata": {},
   "outputs": [
    {
     "data": {
      "text/plain": [
       "<matplotlib.axes._subplots.AxesSubplot at 0x7fe4a95f6f98>"
      ]
     },
     "execution_count": 46,
     "metadata": {},
     "output_type": "execute_result"
    },
    {
     "data": {
      "image/png": "[encoded data removed]",
      "text/plain": [
       "<matplotlib.figure.Figure at 0x7fe4a9601f28>"
      ]
     },
     "metadata": {},
     "output_type": "display_data"
    }
   ],
   "source": [
    "fig, ax = plt.subplots(figsize=(10,10))\n",
    "sns.heatmap(df_list_13[1], square=True, center=0, cmap='RdBu_r')"
   ]
  },
  {
   "cell_type": "code",
   "execution_count": null,
   "metadata": {
    "collapsed": true
   },
   "outputs": [],
   "source": []
  }
 ],
 "metadata": {
  "kernelspec": {
   "display_name": "Python 3",
   "language": "python",
   "name": "python3"
  },
  "language_info": {
   "codemirror_mode": {
    "name": "ipython",
    "version": 3
   },
   "file_extension": ".py",
   "mimetype": "text/x-python",
   "name": "python",
   "nbconvert_exporter": "python",
   "pygments_lexer": "ipython3",
   "version": "3.6.3"
  }
 },
 "nbformat": 4,
 "nbformat_minor": 2
}
